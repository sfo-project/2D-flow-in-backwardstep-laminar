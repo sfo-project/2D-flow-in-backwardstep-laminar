{
 "cells": [
  {
   "cell_type": "markdown",
   "metadata": {},
   "source": [
    "# CFD Domain's Creation & Discretization\n",
    "\n",
    "**The next step for developing the CFD simulation for a case study, after the review of physics and theory behind the problem of interest, is to create the CFD/Computational domain. This CFD domain will first be created and then discretized into small finite elements (2D) or finite volumes (3D). The flow field's governing equations are then solved numerically inside these elements or volumes via an iterative process till a converged solution inside the CFD domain is obtained. This section explains the techniques and process of creation and discretization of the CFD domain for the problem of interest. It should be highlighted that this sections provides the most generic steps and techniques to create the CFD domain. Users can implement these steps/techniques in the mesher of their choice or download the pre-generated * .msh file from the \"Simulation_Src\" folder.**\n",
    "\n",
    "The CFD domain for the 2D laminar flow in a channel with a backward facing step consists two rectangles connected with each other forming a backward facing step as shown in Fig. 1.\n",
    "\n",
    "<img src=\"./Images/flow_sketch.png\" width=\"500\">\n",
    "</br>\n",
    "Fig.1 - Sketch of the CFD domain and flow visualization for flow in a channel with backward facing step.\n",
    "\n",
    "The dimensions for this CFD domain are defined to match the dimensions of the flow field domain from the experimental analysis performed by [Armaly et. al. work.](http://journals.cambridge.org/action/displayAbstract?fromPage=online&aid=380534&fileId=S0022112083002839). These dimensions are as follows and stated in unit of [mm]. Users should pay close attention to the preset length unit in their mesher software of choice:\n",
    "\n",
    "|  Side        |   Length [mm] |\n",
    "|--------------|:-------------:|\n",
    "| $$ h $$      |      5.2      |\n",
    "| $$ S $$      |      4.9      |\n",
    "| $$ l_1 $$    |      50       |\n",
    "| $$ l_2 $$    |      100      |\n",
    "\n",
    "To create the geometry of the visualized CFD domain in Fig. 1, it is recommended to start with creating the corner points of the CFD domain's geometry based on the provided dimensions as visualized in Fig. 2. It should be noted that in addition to the all corner points of the CFD domain (vertices 1 to 6), two extra helping points are also created (vertices 7 & 8). The goal of these two extra helping points is to create helping lines for controlling mesh resolution in regions of interest within the domain in next steps. Details of this approach will be discussed shortly in this section. Users should note that the global origin was placed on top of the vertex 1 and the position of other vertices were defined based on this origin.\n",
    "\n",
    "<img src=\"./Images/CFD_doamin_vertices.png\" width=\"500\">\n",
    "</br>\n",
    "Fig. 2 - The CFD domain corner points and additional helping points.\n",
    "\n",
    "After creation of the CFD domain skeleton using corner points they are connected together, two-by-two, using horizontal and vertical lines and then a unit surface is defined using all these lines to create the raw geometry of the CFD domain as visualized in Fig. 3.\n",
    "\n",
    "<img src=\"./Images/CFD_doamin_raw_geometry.png\" width=\"500\">\n",
    "</br>\n",
    "Fig. 3 - The CFD domain raw geometry as a unit surface.\n",
    "\n",
    "Once the raw geometry of the CFD domain is created, it should be discretized into finite elements/volumes (a.k.a meshing procedure). In simple words, meshing is the process of \"chopping\" the raw geometry of the CFD domain into smaller finite elements and/or volumes, wherein the flow field's governing equations will be solved numerically. High quality mesh elements, with reasonable aspect ratio, would lead to a smoother and more promising numerical solution. Therefore, it is important to increase the quality and level of controllability in the CFD domain at the first step by proper meshing and topology techniques.\n",
    "\n",
    "In the current problem of interest as discussed earlier to increase the level of controllability on mesh resolution a two helping points and lines were created and used. In this specific problem the mesh resolution was controlled close to the bottom walls of the CFD domain. If required more helping lines could be created to also control mesh resolution close to the top wall as well. To highlight the methodological approach for this controlling process, Fig. 4 visualizes the meshing of vertical lines in the CFD domain. As shown in the zoomed-in view the mesh element concentration is set to be higher close to the bottom walls of the channel via setting a first length (i.e. distance of the first mesh element from the wall) of 0.1 [mm] and using 100 mesh elements along each vertical line. The mesh resolution in proximity to the bottom walls become significantly important as the Reynolds number of the flow increases and regime of the flow changes from laminar to turbulent. However, for the laminar flow the currently defined mesh resolution is sufficient. Using this meshing methodology, upon mesh refinement requirement users can alter the set first length (i.e. distance of the first mesh element from the wall) and number of mesh elements on these vertical lines and remesh the domain without implementation of any other changes. \n",
    "\n",
    "<img src=\"./Images/CFD_doamin_raw_geometry.png\" width=\"500\">\n",
    "</br>\n",
    "Fig. 4\n",
    "\n",
    "To complete the meshing process of the CFD domain the horizontal edges should be meshed. The number of mesh elements along these edges are defined based on their lengths. Two mesh element is considered for each 1 [mm] of length along these horizontal edges. Similar to the mesh process of vertical lines a first length of 0.1 [mm] was defined for all horizontal line from their end located at the backward facing step. This approach would concentrate more mesh elements right before and after the step where physics of the flow becomes complicated. Therefore, requires higher mesh resolution to be captured. Fig. 5 visualizes the mesh of the horizontal line and provides a zoom-in of increased mesh resolution at the location of backward facing step within the CFD domain. \n",
    "\n",
    "<img src=\"./Images/edges_meshed.png\" width=\"500\">\n",
    "Fig. 5 - Mesh of horizontal line and controlling mesh element distribution along the horizontal lines close to the backward facing step location.\n",
    "\n",
    "At this stage all of the edges in the CFD domain are meshed and user can use the surface meshing algorithm of choice to mesh all four faces as shown in Fig. 6. As visualized in the zoom-in view of Fig. 3 the mesh resolution is high right after and before the backward facing step.  \n",
    "\n",
    "<img src=\"./Images/large_squares_meshed.png\" width=\"500\">\n",
    "Fig.3 - Surface mesh the CFD domain.\n",
    "\n",
    "Once the mesh is generated it's quality should be examined. This can be done using the provided features and functions defined in the meshing software. In general these functions calculate the aspect ratio of each elements and report a statistical report on them. The goal is to keep the average aspect ratio close to 1 for a very high quality mesh. In this stage the CFD domain is completely meshed and is ready to be setup for a CFD simulation.\n",
    "\n"
   ]
  },
  {
   "cell_type": "code",
   "execution_count": null,
   "metadata": {
    "collapsed": true
   },
   "outputs": [],
   "source": []
  }
 ],
 "metadata": {
  "kernelspec": {
   "display_name": "Python 3",
   "language": "python",
   "name": "python3"
  },
  "language_info": {
   "codemirror_mode": {
    "name": "ipython",
    "version": 3
   },
   "file_extension": ".py",
   "mimetype": "text/x-python",
   "name": "python",
   "nbconvert_exporter": "python",
   "pygments_lexer": "ipython3",
   "version": "3.5.1"
  }
 },
 "nbformat": 4,
 "nbformat_minor": 0
}
