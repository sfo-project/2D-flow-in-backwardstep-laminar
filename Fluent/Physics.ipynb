{
 "cells": [
  {
   "cell_type": "markdown",
   "metadata": {},
   "source": [
    "# CFD Problem's Physics & Theory\n",
    "\n",
    "**In developing CFD simulation for a fluid mechanic problem understanding the general physics and fundamental theory of the problem is extremely important. This knowledge would provide users the ability to make logical decision about the geometry of CFD domain, choice of proper boundary conditions and numerical models for the CFD simulation. Furthermore, user will have a general big picture on the expected outcome of simulation. These knowledges and abilities form the foundation for a successful implementation and validation of the CFD simulation.**\n",
    "\n",
    "**In other words understanding physics and theory of problem before developing a CFD simulation can be thought of turning on a flash light before taking any step in a completely dark room. Hence, let's review the fundamental physics and theory behind the problem of \"Laminar Flow in a Backward Facing Step\" as the first step for development and validation of CFD simulation for this problem of interest:**\n",
    "\n",
    "A channel with a backward facing step has a simple geometry as visualized in Fig. 1. In this figure flow direction is from left to right. Flow enters the domain and move toward the step. Flow field in this entrance section can be considered as a flow in a 2D channel/pipe discussed [here](https://github.com/sfo-project/2D-flow-in-rectangular-pipe-laminar). After the short entrance region, the velocity profile becomes steady state and fully developed. Flow reaches the backward facing step and falls down into the lower wall of the domain. This sudden change in the cross-sectional area of the channel lead into separation of the flow from channel's upper wall until it reaches the channel's lower wall. This length is referred to as a separation length and the area, where the velocity of the flow gets close to zero, is known as recirculation region. \n",
    "\n",
    "<img src=\"./Images/flow_sketch.png\" width=\"500\">\n",
    "</br>\n",
    "Fig.1 - Sketch of the flow field in a channel with backward facing step.\n",
    "\n",
    "Sudden geometrical changes in both Fluid and Solid mechanics problems leads into interesting but yet complex physics. In solid mechanics' problems sudden changes in the cross sectional areas of solid objects tolorating shear and/or stress become point's of stress concentration and first candidate for potential structure failure. In problems of fluid mechanics sudden geometrical change in the fluid domain lead into separation of the flow and generation of an areas, where the flow will recirculate there. To investigate and numerically simulate this flow field it's governing equations, conservation of mass and momentum, are considered as follows:\n",
    "\n",
    "Equation of conservation of mass:\n",
    "$$\\frac{\\partial}{\\partial x}(\\rho U) + \\frac{\\partial}{\\partial y}(\\rho V) = 0 ,$$\n",
    "\n",
    "Equation of conservation of momentum:\n",
    "$$\\frac{\\partial}{\\partial x}(\\rho U^2) + \\frac{\\partial}{\\partial y}(\\rho UV) = -\n",
    "\\frac{\\partial p}{\\partial x} + \\mu (\\frac{\\partial^2 U}{\\partial x^2} + \\frac{\\partial^2 U}{\\partial y^2} ) ,$$\n",
    "\n",
    "$$\\frac{\\partial}{\\partial x}(\\rho UV) + \\frac{\\partial}{\\partial y}(\\rho V^2) = -\n",
    "\\frac{\\partial p}{\\partial y} + \\mu (\\frac{\\partial^2 V}{\\partial x^2} + \\frac{\\partial^2 V}{\\partial y^2} ).$$\n",
    "\n",
    "Solving the above system of partial differential equations (i.e. system of PDEs) within the flow field domain requires a set of boundary conditions, which are defined as follows:\n",
    "\n",
    "No-slip at the top and bottom channel walls:\n",
    "$$U=V=0 ,$$\n",
    "\n",
    "Uniform flow at the inlet:\n",
    "$$U=set~value~,~V=0 ,$$\n",
    "\n",
    "Zero streamwise velocity gradient (or constant pressure) at the outlet:\n",
    "$$\\frac{\\partial U}{\\partial x}=0~ ~,~ ~\\frac{\\partial V}{\\partial x}=0.$$\n",
    "\n",
    "For a compressible flow with a known and constant density the above governing equations will for a determinate system of three equations with three unknowns (i.e. $U~,~V~,~p$). Solving the above-mentioned governing equations numerically with the specified boundary conditions provides the velocity and pressure field within the fluid domain. The obtained velocity and pressure fields then will reveal the general physics of the flow for further investigations. The most interesting physical phenomena within this flow field is the position of flow separation region/s occurring within the flow. Numerous experimental and numerical investigations has been conducted to investigate on this physical problem. The common denominator between all of these investigation was the strong dependency of the location and number of separation region/s within the flow field on the Reynolds number defined as:\n",
    "\n",
    "$$Re = \\frac{VD}{\\nu}.$$\n",
    "\n",
    "In this equation $V$ is two-thirds of the maximum inlet velocity, corresponding to fully developed flow average inlet velocity, $D$ is the hydraulic diameter of the channel's inlet and is equivalent to twice it's height, $D = 2h$, and $\\nu$ is the flow kinematic viscosity\n",
    "\n",
    "One of the most comprehensive experimental studies on the problem of flow in channel with backward facing step is the work of Armaly et. al. published in 1983 at Journal of Fluid Mechanics (JFM) [here](http://journals.cambridge.org/action/displayAbstract?fromPage=online&aid=380534&fileId=S0022112083002839). Armaly et. al. showed that for the laminar flow regime (Re < 400) the flow field is two-dimensional and well-behaved. However, during the transitional flow regime (400 < Re < 1200) unsteadiness within the flow start to occur, which makes the assumption of two-dimensionality of the flow field not accurate, but reliable. Within the turbulent regime the flow field becomes highly three-dimensional and hard to model and characterize solving basic flow field governing equations. In this cases Direct Numerical Simulation (DNS) or Turbulence closure model should be used. \n",
    "\n",
    "The approach taken in this case study to simulate, characterize and investigate the flow field in a channel with a backward facing step is to locate the position of separation regions within the flow and investigate their functionality with respect to the Reynolds number. Fig. 2 shows the presented experimental and numerical investigation both done by Armaly et. al. to find the separation region within the flow. The variable $\\frac{x_3}{S}$ is the length of the separation, showed with $L$ in Fig.1, normalized by the step height $S$. In this case study these experimental results are used to validate the developed numerical simulations implemented in different CFD packages.\n",
    "\n",
    "<img src=\"./Images/x3_vs_Re_Armaly.png\" width=\"500\">\n",
    "</br>\n",
    "Fig. 2 - Measured and numerically predicted reattachment length within the flow in channel with a backward facing step for $Re < 800$.\n",
    "\n",
    "As discussed earlier the number and position of separation regions within the flow field is different as the flow field Reynolds number changes. For the laminar regime, however there will be only one separation region after the flow passes the backward facing step. As visualized in Fig. 1 the point of flow re-attachment is at $x_L = l_1 + L$ at $y_B = 0$. This point is defined as the point where, very slightly above the bottom boundary at $(x, y) = (x_L, \\epsilon)$, the streamwise component of the velocity changes sign (i.e. directionality) from negative to positive. Here $\\epsilon$ is a very ‘small’ distance, and, from the sketch, the bottom boundary is at $y_B = 0$. Using a Taylor series expansion about the point $(x, y) = (x_L, 0)$ one can show:\n",
    "\n",
    "$$ u(x_L,\\epsilon)=u(x_L,0)+ \\frac{\\partial u}{\\partial y}\\bigg|_{x_L,0} ~.~ \\epsilon =+ \\frac{1}{2 \\mu} \\tau_{yx} \\epsilon~,$$\n",
    "\n",
    "\n",
    "where $ \\tau_{yx} = 2 \\mu \\frac{\\partial u}{\\partial y} $ for an incompressible flow, and $u(x_L,0) = 0$ due to the non-slip boundary condition. Therefore, one can conclude $u(x_L,\\epsilon)$ changes it's sign (directionality) when $ \\tau_{yx}$ changes sign.\n",
    "\n",
    "\n",
    "\n",
    "To develop the CFD simulation for the problem of interest, 2D laminar flow field will be simulated and corresponding reattachment points, that will be the end point of the recirculating region, as a function of Reynolds number will be investigated. The obtained numerical results will be compared to the experimental results of Armaly et. al. to highlight the capabilities and limitations of CFD simulation to model this flow field of the interest.\n",
    "\n",
    "With this review one has developed an in-depth understanding of the flow and approximate the expected results from the CFD simulations. Now one can move forward to initiate developing the CFD domain and simulations for this problem of interest."
   ]
  },
  {
   "cell_type": "code",
   "execution_count": null,
   "metadata": {
    "collapsed": true
   },
   "outputs": [],
   "source": []
  }
 ],
 "metadata": {
  "kernelspec": {
   "display_name": "Python 3",
   "language": "python",
   "name": "python3"
  },
  "language_info": {
   "codemirror_mode": {
    "name": "ipython",
    "version": 3
   },
   "file_extension": ".py",
   "mimetype": "text/x-python",
   "name": "python",
   "nbconvert_exporter": "python",
   "pygments_lexer": "ipython3",
   "version": "3.5.1"
  }
 },
 "nbformat": 4,
 "nbformat_minor": 0
}
