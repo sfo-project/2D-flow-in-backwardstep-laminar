{
 "cells": [
  {
   "cell_type": "markdown",
   "metadata": {},
   "source": [
    "# CFD Problem's Physics & Theory\n",
    "\n",
    "**In developing CFD simulation for a fluid mechanic problem understanding the general physics and fundamental theory of the problem is extremely important. This knowledge would provide users the ability to make logical decision about the geometry of CFD domain, choice of proper boundary conditions and numerical models for the CFD simulation. Furthermore, user will have a general big picture on the expected outcome of simulation. These knowledges and abilities form the foundation for a successful implementation and validation of the CFD simulation.**\n",
    "\n",
    "**In other words understanding physics and theory of problem before developing a CFD simulation can be thought of turning on a flash light before taking any step in a completely dark room. Hence, let's review the fundamental physics and theory behind the problem of \"Laminar Flow in a Backward Facing Step\" as the first step for development and validation of CFD simulation for this problem of interest:**\n",
    "\n",
    "A channel with a backward facing step has a simple geometry as visualized in Fig. 1. In this visualized geometry, in Fig. 1, flow direction is from left to right. Flow enters the domain and move toward the backward facing step. Flow field in this entrance section can be considered as a flow in a 2D pipe. After a short entrance region, the velocity profile becomes steady state and fully developed. Flow reaches the backward facing step and falls down into the lower wall of the domain. This sudden change in the cross-sectional area of channel lead into separation of the flow from channel walls till it again reach the lower wall of the channel. This length is referred to as a separation length and the area where the velocity of the flow gets close to zero is known as recirculation region. \n",
    "\n",
    "Generally speaking sudden geometrical changes in both Fluid and Solid mechanic problems leads into interesting but yet very complex physics. In solid mechanic problems sudden changes to cross sectional area of a solid object tolorating normal stress points of sudden cross-sectional area become stress concentration points and first candidated for structure failiure. As explained above in problem of fluid mechanics sudden geometrical change in the domain geometry lead into separation of the flow and generation of an area where the flow will recirculate there. To solve this flow field of interest the governing equations of the flow, conservation of mass and momentum, are considered as follows:\n",
    "\n",
    "Equation of conservation of mass:\n",
    "$$\\frac{\\partial}{\\partial x}(\\rho U) + \\frac{\\partial}{\\partial y}(\\rho V) = 0 ,$$\n",
    "\n",
    "Equation of conservation of momentum:\n",
    "$$\\frac{\\partial}{\\partial x}(\\rho U^2) + \\frac{\\partial}{\\partial y}(\\rho UV) = -\n",
    "\\frac{\\partial p}{\\partial x} + \\mu (\\frac{\\partial^2 U}{\\partial x^2} + \\frac{\\partial^2 U}{\\partial y^2} ) ,$$\n",
    "\n",
    "$$\\frac{\\partial}{\\partial x}(\\rho UV) + \\frac{\\partial}{\\partial y}(\\rho V^2) = -\n",
    "\\frac{\\partial p}{\\partial y} + \\mu (\\frac{\\partial^2 V}{\\partial x^2} + \\frac{\\partial^2 V}{\\partial y^2} ).$$\n",
    "\n",
    "Solving the above system of partial differential equations (i.e. system of PDEs) within the flow field domain requires a set of boundary conditions which are defined as follows:\n",
    "\n",
    "No-slip at the top and bottom walls:\n",
    "$$U=V=0 ,$$\n",
    "\n",
    "Uniform flow at the inlet:\n",
    "$$U=set value, V=0 ,$$\n",
    "\n",
    "Zero streamwise velocity gradient or constant pressure at the outlet:\n",
    "$$\\frac{\\partial U}{\\partial x}=0 ,$$\n",
    "$$\\frac{\\partial V}{\\partial x}=0 .$$\n",
    "\n",
    "Solving the above-mentioned flow field numerically governing equations provides the velocity and pressure field within the domain. Using these solution the general physics of the flow can be investigated. The most interesting physical phenomena within this flow field is the position of multiple flow separation regions occuring within the flow. Numerous experimental and numerical investigations has been conducted on this problem. The common denomenator between all of them was the strong dependency of the location and number of separation region on the flow field Reynolds number defined as:\n",
    "\n",
    "$$$$\n",
    "\n",
    "< definition of Reynolds number >\n",
    "\n",
    "One of the most comprehensive experimental studies for this problem is the work of Armaly et. al. done in 1983 and published in JFM (citation). Armaly et. al. showed that for in the laminar regiem (Re < 400) the flow field is 2D and well-behaved. However, during the transitional regiem some unsteadiness within the flow occurs that makes the assumption of two dimensionality for the flow field not very valid, but reliable (400 < Re < 1200). Within the turbulent regiem the flow field becomes highly three-dimensional and hard to characterize solving basic flow field governing equations.\n",
    "\n",
    "A common approach to characterize this flow field of the interest is to locate and measure start and end points of the separation regions within the flow. Fig. 2 shows the presented experimental and numerical investigation done by Armaly et. al. to locat the end point of the separation region within the flow over a backward facing step.\n",
    "\n",
    "< inset figure 14 and little sketch of x3 >\n",
    "\n",
    "To develop the CFD simulation for the problem of interest, 2D laminar flow field will be simulated and coresponding end point of the recirculating region as a function of Reynolds number will be investigated. The numerical results will be compared to the experimental results of Armaly et. al. to highlight the capabilities and limitations of CFD simulation to model this flow field of the interest.\n",
    "\n",
    "With this review one has developed an in-depth understanding of the flow and approximate the expected results from the CFD simulations. Now one can move forward to initiate developing the CFD domain and simulations for this problem of interest."
   ]
  },
  {
   "cell_type": "code",
   "execution_count": null,
   "metadata": {
    "collapsed": true
   },
   "outputs": [],
   "source": []
  }
 ],
 "metadata": {
  "kernelspec": {
   "display_name": "Python 3",
   "language": "python",
   "name": "python3"
  },
  "language_info": {
   "codemirror_mode": {
    "name": "ipython",
    "version": 3
   },
   "file_extension": ".py",
   "mimetype": "text/x-python",
   "name": "python",
   "nbconvert_exporter": "python",
   "pygments_lexer": "ipython3",
   "version": "3.5.1"
  }
 },
 "nbformat": 4,
 "nbformat_minor": 0
}
