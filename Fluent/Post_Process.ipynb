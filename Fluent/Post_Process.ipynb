{
 "cells": [
  {
   "cell_type": "markdown",
   "metadata": {},
   "source": [
    "# CFD Results Post-Process & Validation\n",
    "\n",
    "**The final step for the development of a CFD simulation for a problem of interest is to process and examine the validity of the obtained numerical results (a.k.a post-processing and validation step). These steps requires an in-depth engineering knowledge about the fundamentals of the physical problem of interest. Thus, the value of investing time in understanding the fundamental physics of the flow, once again is highlighted here. This process is done starting from general inspection on CFD simulation results and ends with more detail validation process.**\n",
    "\n",
    "In this section the results of the CFD simulation for flow inside a channel with a backward facing step with Reynolds number of 100 are post processed. The first step to check the convergence of a CFD simulation is to visualize and review the residuals of the flow key variables, such as continuity, velocity and etc.. In order to plot residual values in FLUENT do: <span style=style=\"background-color:lightgrey;\">plot/residual</span> and choose the residual values of interest to plot.\n",
    "\n",
    "<img src=\"./Images/residuals.png\" width=\"550\">\n",
    "</br>\n",
    "Fig.1 - Residuals of continuity and streamwise velocity for simulation of uniform flow over a backward step.\n",
    "\n",
    "Fig. 1 visualizes the residual values of continuity and streamwise velocity (i.e. x-velocity) as a function of the number of iterations. The general decreasing trend of the residual values confirms that the numerical solution of the conservation/governing equations are converging to specific final values. Usually the residual for the continuity decreases with a slower rate compared to other residual values. Therefore, a continuity residual of 10E-3, is the first necessary, but not sufficient, general criteria to confirm the convergence of the CFD simulation. In this case study (Re=100), this criteria is reached after about 30 iterations and after about 1000 iterations the continuity residuals reached value of 10E-5, which is a solid confirmation of CFD simulation convergence. It is interesting to note that the values of initial residuals were low to begin with. However, to obtain the full physics of the flow field significant number of iterations, about 1000, were required to confirm convergence of the CFD simulation. Again it is highlighted that a continuity residual of 10E-3, is the first necessary, but not sufficient, general criteria to confirm the convergence of the CFD simulation.\n",
    "\n",
    "The second general step for post-processing is to visualize dimensionless form of the important variables within the CFD domain. This visualization step can be problem specific and should be performed over an adequate plane of choice. For most of the CFD problems contours of normalized velocity or pressure, over a horizontal or vertical plane at the center of the CFD domain, is a good start point. The path to define an adequate plane is <span style=style=\"background-color:lightgrey;\">surface/plane-bounded</span>. This command will ask for coordinate of three different points within the domain to create the desired plane. For the current problem, since the entire domain is two dimensional and planar, it would make the entire domain the best candidate for the post-processing plane.\n",
    "\n",
    "User should now define the normalized variable of interest that needs to be visualized. The normalized streamwise velocity by the inlet velocity can be defined using: <span style=style=\"background-color:lightgrey;\"></span>define/custom-field-functions/define</span>. Users should name the variable (i.e. `vx_over_v0`) and put the required formula for the variable of interest (i.e. `x_velocity/0.141`). Here the x_velocity is the streamwise component of the velocity within the flow and 0.141 is the free stream velocity that would match Reynolds number of 100. This input will calculate the normalized streamwise velocity with free stream velocity within entire CFD domain. At this stage users can use the command <span style=style=\"background-color:lightgrey;\"></span>display/contour/normalized_streamwise_velocity</span> and define a range (i.e. [0,1.5]) and visualizes the velocity contours:\n",
    "\n",
    "<img src=\"./Images/velocity_cont_Re100.png\" width=\"500\" align=\"middle\">\n",
    "</br>\n",
    "Fig. 2 - Contours of normalized streamwise velocity with the free stream velocity in a channel with a backward facing step with Reynolds of 100.\n",
    "\n",
    "Fig. 2 visualizes the normalized streamwise velocity with free stream for the flow over backward step with Reynolds number of 100. The physics of the first part of this flow, within the upper section of the domain, is identical to the flow inside a 2D pipe; the flow enters the domain with normalized velocity of 1 and right away due to the imposed no-slip wall boundary conditions on the top and bottom of channel's entrance, flow decelerates significantly at these two boundaries. An entrance region forms and then the flow field becomes fully developed. The interesting phenomena happens, when the flow passes over the backward facing step. A recirculation region, region of very low velocity, with a specific length forms right after that step. After this specific length flow re-attaches to the bottom wall of the channel. Due to the sudden cross-section expansion and law of mass conservation the mean velocity of the flow decreases and it moves toward the outlet of the domain. Physics of this section of the flow field is again identical to the flow in a 2D pipe. In the end it should also be highlighted that the visualized velocity contours within the CFD domain are smooth. The smoothness confirms the validity of created mesh resolution and convergence of the numerical solution. However, this is only an additional necessary, but not sufficient criteria for simulation validity and convergence.\n",
    "\n",
    "Increasing the value of Reynolds number within the flow would increase the effect of inertial forces compared to the viscous forces within the domain. Therefore, the length of the separation region as well as number of them will increase. Fig. 3 visualizes the normalized streamwise velocity contours with the free stream velocity for case study with Reynolds number of 800. The increase of the separation region length and formation of a separation region on the top of the channel is easy to notice compare to the presented results in Fig. 2. It also important to notice that increasing the flow field Reynolds number would make the flow three dimensional. As a result of this 2D simulations would be limited in accuracy to capture the physics of this flow field (see the discussion in the validation section).\n",
    "\n",
    "<img src=\"./Images/velocity_cont_Re800.png\" width=\"500\" align=\"middle\">\n",
    "</br>\n",
    "Fig. 3. - Contours of normalized streamwise velocity with the free stream velocity in a channel with a backward facing step with Reynolds of 800.\n",
    "\n",
    "As discussed earlier in the Physics section the length of the recirculation region after the backward facing step can be evaluated by tracking the sign variation of the shear stress ($\\tau_{xy}$) values on the bottom wall of the channel. According to the presented mathematical proof in the Physics section, the shear stress $\\tau_{xy}$ will be negative right after the backward step, within the recirculation region, since the flow changes it's directionality in this region. Further downstream at the point of flow re-attachment, as the flow changes it's direction to the streamwise direction again, the shear stress will become positive. Users can take advantage of this phenomena and investigate the variation of streamwise velocity gradient ($\\frac{dU}{dy}$) signage along the bottom wall to numerically evaluate the length of the separation region. In order to validate the CFD simulations these evaluated lengths will be compared against the corresponding experimental values published by [Armaly et. al.](http://journals.cambridge.org/action/displayAbstract?fromPage=online&aid=380534&fileId=S0022112083002839).\n",
    "\n",
    "The streamwise velocity gradient ($\\frac{dU}{dy}$) along the bottom wall of the CFD domain can be both visualized as a graph or extracted as data points in FLUENT. The latter option results into more accurate evaluation of the length of separation region. The path to visualize the $\\frac{dU}{dy}$ along the bottom wall of the domain is: <span style=style=\"background-color:lightgrey;\">plot/solution/dx-velocity-dy</span>. Once this command is ran, user will be asked for the zone id/name of the region that the shear stress should be visualized along it (i.e. 3 for the provided simulation in Simulation_Scr directory). The output of running this command is visualized in Fig. 4 as follow:\n",
    "\n",
    "<img src=\"./Images/shear_Re100.png\" width=\"500\" align=\"middle\">\n",
    "</br>\n",
    "Fig. 4 -  The streamwise velocity gradient ($\\frac{dU}{dy}$) along the bottom wall of the channel for the flow in a channel with backward facing step with Reynolds of 100.\n",
    "\n",
    "Fig. 4 shows that the  streamwise velocity gradient ($\\frac{dU}{dy}$) right after the step has negative value, since the flow has changes it's directionality close to the wall boundary. This negative value increases to the middle of the recirculation zone, where can be thought as the heart of the recirculation region. Then the  streamwise velocity gradient value start to decrease back to zero. Once the flow becomes fully uniform within the channel cross section and flow re-attaches to bottom of the channel the streamwise velocity gradient value becomes positive and start increasing with positive value. For a fully developed flow, moving toward toward the outlet of the domain, the value of  streamwise velocity gradient (i.e. shear stress) becomes constant as visualized in Fig. 4. This graph confirms that the flow reattaches to the channels wall, sign of the shear stress changes, at about $x=0.065~[m]$ from the inlet of the channel. To calculate the length of the separation region, as measured and reported on figure 14 on page 490 in the work of [Armaly et. al.](http://journals.cambridge.org/action/displayAbstract?fromPage=online&aid=380534&fileId=S0022112083002839), the initial $0.05~[m]$ length of the channel should be subtracted from this value, which corresponds to a separation length of about $0.015 [m]$. Table 1 shows the evaluated separation length and it's comparison with the corresponding normalized separation length value with the initial height of the backward facing step ($s=0.0049 [m]$):\n",
    "\n",
    "| Reynolds #     |$x_L~[m]$ Numerical|$x_3~[m]$ Numerical|$x_3/s$ Numerical  | $x_3/s$ Experiment|Relative Error [%]|\n",
    "| :-------------:|:---------------:  |:---------------:  |:--------------:   | :----------------:|:----------------:|\n",
    "| 100            | 0.065             |0.015              | 3.061             | 3.027             |1.13              |\n",
    "Table 1. Comparison between the experimentally measured and numerically predicted normalize separation region length for flow over a backward step with Re=100.\n",
    "\n",
    "The corresponding data point's for the graph showed in Fig. 4 can be extracted in format of data point in FLUENT within the <span style=style=\"background-color:lightgrey;\">XY-plot</span> window. The users should define the variables of interest as discussed above and instead of <span style=style=\"background-color:lightgrey;\">plot</span> the data check the <span style=style=\"background-color:lightgrey;\">Write to File</span> box and save the data to a file. The output of such process is available under the name <span style=style=\"background-color:lightgrey;\">tau_Re100</span> in the Simulation_Src directory. These data shows the shear stress changes it's sign at $x=0.064~[m]$. It should be noted that the written data corresponds to the points from the domain outlet toward inlet.\n",
    "\n",
    "As shown in the Table 1, the CFD simulation can evaluate the experimentally measured recirculation length with about $1\\%$ level of accuracy. This is a great validation point for the developed CFD simulations. At this point user can be confident in the validity of the developed CFD mesh and simulation and use it for simulation of other case studies. Using this validate developed base simulation, the flow in a channel with a backward facing step with various Reynolds numbers (up to 800) was ran and the numerically evaluated separation length were compared against the corresponding experimentally measured separation length reported by [Armaly et. al.](http://journals.cambridge.org/action/displayAbstract?fromPage=online&aid=380534&fileId=S0022112083002839). Fig 5. visualizes these comparisons.\n",
    "\n",
    "<img src=\"./Images/x3_various_Re.png\" width=\"500\" align=\"middle\">\n",
    "</br>\n",
    "Fig. 5 Comparison between the experimentally measured and numerically predicted normalize separation region length for flow over a backward step with various Reynolds numbers.\n",
    "\n",
    "It is interesting to note that the agreement between numerical and experimental data is very good for flows with Reynolds number less than 400. However, after this Reynolds number the CFD simulation under estimates the length of the recirculation zone compared to the experiment. This deviation of numerical results from corresponding experimental results is similar to the reported trend by [Armaly et. al.](http://journals.cambridge.org/action/displayAbstract?fromPage=online&aid=380534&fileId=S0022112083002839). According to Armaly et. al.: \"[Using CFD simulations] converged and grid-independent solutions could be obtained that are in good agreement with experimental findings up to a Reynolds number Re~400. For Reynolds numbers in excess of this value the numerical results also show multiple regions of  separated (recirculating) flow at the wall  opposite to the two-dimensional step and on the channel side where the step is located. Unfortunately with the occurrence of more than one separated flow region, the flow in the experiments becomes three-dimensional in the region downstream of the step, and this prevents direct comparison between the experimental and theoretical results.\"\n",
    "\n",
    "At this stage one can conclude that this CFD numerical simulation is validated to study steady laminar flow over a backward facing step. Therefore, these simulations can be used for similar or more complex problems, such as unsteady flow over a backward facing step or three dimensional laminar steady or unsteady flow over backward facing step. This can be done via correct implementation in changing the corresponding solver, models and/or boundary conditions.\n",
    "\n",
    "> For more details on the physics, theory and equation derivation please see work of Armaly et. al. \"Experimental and theoretical investigation of backward-facing step flow\n",
    "\" [here](http://journals.cambridge.org/action/displayAbstract?fromPage=online&aid=380534&fileId=S0022112083002839)."
   ]
  },
  {
   "cell_type": "code",
   "execution_count": null,
   "metadata": {
    "collapsed": true
   },
   "outputs": [],
   "source": []
  }
 ],
 "metadata": {
  "kernelspec": {
   "display_name": "Python 3",
   "language": "python",
   "name": "python3"
  },
  "language_info": {
   "codemirror_mode": {
    "name": "ipython",
    "version": 3
   },
   "file_extension": ".py",
   "mimetype": "text/x-python",
   "name": "python",
   "nbconvert_exporter": "python",
   "pygments_lexer": "ipython3",
   "version": "3.5.1"
  }
 },
 "nbformat": 4,
 "nbformat_minor": 0
}
