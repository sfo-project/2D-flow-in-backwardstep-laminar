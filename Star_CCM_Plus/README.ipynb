{
 "cells": [
  {
   "cell_type": "markdown",
   "metadata": {},
   "source": [
    "**[1. Problem's Physics & Theory](../Common_Files/Physics.ipynb)** | **[2. Domain's Creation & Discretization](../Common_Files/Domain.ipynb)**\n",
    "------------- | -------------\n",
    "<img src=\"../Common_Files/Images/flow_sketch.png\" width=\"350\"> | <img src=\"../Common_Files/Images/CFD_domain_surface_mesh_final.png\" width=\"350\">\n",
    "**[3. Simulation Case Setup](./Simulation.ipynb)** | **[4. Results Post-Process and Validation](./Post_Process.ipynb)**\n",
    "<img src=\"./Images/velocity_cont_Re800.png\" width=\"350\"> | <img src=\"./Images/x3_various_Re.png\" width=\"350\">"
   ]
  },
  {
   "cell_type": "code",
   "execution_count": null,
   "metadata": {
    "collapsed": true
   },
   "outputs": [],
   "source": []
  }
 ],
 "metadata": {
  "kernelspec": {
   "display_name": "Python 3",
   "language": "python",
   "name": "python3"
  },
  "language_info": {
   "codemirror_mode": {
    "name": "ipython",
    "version": 3
   },
   "file_extension": ".py",
   "mimetype": "text/x-python",
   "name": "python",
   "nbconvert_exporter": "python",
   "pygments_lexer": "ipython3",
   "version": "3.5.2"
  }
 },
 "nbformat": 4,
 "nbformat_minor": 0
}
