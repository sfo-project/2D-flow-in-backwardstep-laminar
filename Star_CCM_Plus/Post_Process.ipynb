{
 "cells": [
  {
   "cell_type": "markdown",
   "metadata": {},
   "source": [
    "# CFD Results Post-Process & Validation\n",
    "\n",
    "**The final step for the development of a CFD simulation for a problem of interest is to process and examine the validity of the obtained numerical results (a.k.a post-processing and validation step). These steps requires an in-depth engineering knowledge about the fundamentals of the physical problem of interest. Thus, the value of investing time in understanding the fundamental physics of the flow, once again is highlighted here. This process is done starting from general inspection on CFD simulation results and ends with more detail validation process.**\n",
    "\n",
    "In this section the results for simulation of flow in a channel with a backward facing step having Reynolds of 100 will be presented, discussed and experimentally validated. It should be noted that the post-processing and validation of all simulations with different Reynolds numbers would be similar to the presented procedure here. The first general rule of thumb to check the convergence of a CFD simulation is to visualize the residuals of key flow field variables, such as continuity, momentum, velocity and etc.. In STAR-CCM+ once user starts to run the simulation, the Residual values for the relative variables, based on the choices of models, are visualized in the solver window. Furthermore, users can manage details of the plotted residuals or add other residuals to be visualized via <span style=style=\"background-color:lightgrey;\">Plots/Residuals</span>.\n",
    "\n",
    "<img src=\"./Images/Re_100_Residuals.png\" width=\"700\">\n",
    "</br>\n",
    "Fig.1 - Residuals of continuity and momentum in x-direction for simulation of flow in a channel with a backward facing step having Reynolds of 100.\n",
    "\n",
    "Fig. 1 visualizes the residual values of continuity and momentum in x-direction versus the number of iterations. The general decreasing trend of the residual values confirms that the numerical solution of the conservation/governing equations are converging to specific final values. As a rule of thumb reaching the continuity residual of 10E-3 is the first necessary but not sufficient general criteria to confirm the convergence of the CFD simulation. In this study case this criteria is reached after about 35 iterations and after about 1800 iterations the continuity residuals reached value of 1E-4, which is a solid necessary confirmation of CFD simulation convergence. Users can also define criteria to stop the iteration process once the desired criteria is met during the iteration process. These settings are available at via <span style=style=\"background-color:lightgrey;\">Stopping Criteria\\ [right click]</span> path. In the current case study two criteria was set to stop the simulations: 1- Reaching via <span style=style=\"background-color:lightgrey;\">Stopping Criteria\\Maximum Steps</span> of 5000 OR 2- Reaching the <span style=style=\"background-color:lightgrey;\">Stopping Criteria\\Continuity Criterion</span> of 1E-8. The core idea behind choosing the these criteria was to make sure that despite the low Reynolds number value the required number of time steps is used to reach a convergence. For the case of Re=100 the first criterion was reach first and iterations were stopped after 5000 iterations as shown in Fig. 1.\n",
    "\n",
    "The second step is to visualize dimensionless form of the important variables within the CFD domain. This visualization step can be problem specific and should be performed over an adequate plane of choice. For most of the problems contour of normalized velocity or pressure, over a horizontal or vertical plane at the center of the CFD domain, is a good start point. The path to define an adequate probe such as planes or lines is <span style=style=\"background-color:lightgrey;\">Derived Parts/ [right click]</span>. With this path a user can define various type of probes to visualize the obtained numerical results over them. However, for the current problem since the entire domain is two dimensional and planar, it would make the entire domain the best candidate for the post-processing plane.\n",
    "\n",
    "User should now define the normalized variable of interest that needs to be visualized. The normalized streamwise velocity by the inlet velocity can be defined using <span style=style=\"background-color:lightgrey;\">Tools/Field Functions/[right click]/New/Scalar</span>. This path will define a variable named `User Field Function 1` in the tree of progress. User should rename this newly defined variable and edit it further in it's window: <span style=style=\"background-color:lightgrey;\">Function Name</span> (i.e. Ux/U0) and put the required formula for the variable of interest with correct syntax under <span style=style=\"background-color:lightgrey;\">Definition</span> (i.e. $${Velocity}[0]/0.152). In this formula is the imposed free stream inlet velocity to match the Reynolds of 100 within the flow field. This will calculate the normalized streamwise velocity with free stream velocity within entire CFD domain. It order to visualize the defined normalized flow field variable in the previous step users should use <span style=style=\"background-color:lightgrey;\">Scenes/Scalar Scene 1/Displayers/Scalar 1/Scalar Field</span> and choose the Ux/U0.\n",
    "\n",
    "<img src=\"./Images/velocity_cont_Re100.png\" width=\"700\" align=\"middle\">\n",
    "Fig.2 - Contours of normalized streamwise velocity with the free stream velocity in a channel with backward facing step (Re=100).\n",
    "\n",
    "Fig. 2 visualizes the normalized streamwise velocity with free stream for the flow over backward step with Reynolds number of 100. The physics of the first part of this flow, within the upper section of the domain, is identical to the flow inside a 2D pipe; the flow enters the domain with normalized velocity of 1 and right away due to the imposed no-slip wall boundary conditions on the top and bottom of channel's entrance, flow decelerates significantly at these two boundaries. An entrance region forms and then the flow field becomes fully developed. The interesting phenomena happens, when the flow passes over the backward facing step. A recirculation region, region of very low velocity, with a specific length forms right after that step. After this specific length flow re-attaches to the bottom wall of the channel. Due to the sudden cross-section expansion and law of mass conservation the mean velocity of the flow decreases and it moves toward the outlet of the domain. Physics of this section of the flow field is again identical to the flow in a 2D pipe. In the end it should also be highlighted that the visualized velocity contours within the CFD domain are smooth. The smoothness confirms the validity of created mesh resolution and convergence of the numerical solution. However, this is only an additional necessary, but not sufficient criteria for simulation validity and convergence.\n",
    "\n",
    "Increasing the value of Reynolds number within the flow would increase the effect of inertial forces compared to the viscous forces within the domain. Therefore, the length of the separation region as well as number of them will increase. Fig. 3 visualizes the normalized streamwise velocity contours with the free stream velocity for case study with Reynolds number of 800. The increase of the separation region length and formation of a separation region on the top of the channel is easy to notice compare to the presented results in Fig. 2. It also important to notice that increasing the flow field Reynolds number would make the flow three dimensional. As a result of this 2D simulations would be limited in accuracy to capture the physics of this flow field (see the discussion in the validation section).\n",
    "\n",
    "<img src=\"./Images/velocity_cont_Re800.png\" width=\"700\" align=\"middle\">\n",
    "</br>\n",
    "Fig. 3. - Contours of normalized streamwise velocity with the free stream velocity in a channel with a backward facing step with Reynolds of 800.\n",
    "\n",
    "As discussed earlier in the Physics section the length of the recirculation region after the backward facing step can be evaluated by tracking the sign variation of the shear stress ($\\tau_{xy}$) values on the bottom wall of the channel. According to the presented mathematical proof in the Physics section, the shear stress $\\tau_{xy}$ will be negative right after the backward step, within the recirculation region, since the flow changes it's directionality in this region. Further downstream at the point of flow re-attachment, as the flow changes it's direction to the streamwise direction again, the shear stress will become positive. Users can take advantage of this phenomena and investigate the variation of shear stress ($\\tau_{xy}$) signage along the bottom wall to numerically evaluate the length of the separation region. In order to validate the CFD simulations these evaluated lengths will be compared against the corresponding experimental values published by [Armaly et. al.](http://journals.cambridge.org/action/displayAbstract?fromPage=online&aid=380534&fileId=S0022112083002839).\n",
    "\n",
    "The shear stress ($\\tau_{xy}$) along the bottom wall of the CFD domain can be both visualized as a graph Star CCM+.  The path to visualize the shear stress ($\\tau_{xy}$) along the bottom wall of the domain is create a new `XY Plot` under `Plots` directory. To do this follow <span style=style=\"background-color:lightgrey;\">Plots/[right click]/New Plot/XY Plot</span>. Users ca edit the settings of newly created `XY Plot 1` in it's window: set <span style=style=\"background-color:lightgrey;\">Parts</span> to `bottom_wall_outlet`, the <span style=style=\"background-color:lightgrey;\">X Type/Type</span> to `Scalar of Position[x]` and the <span style=style=\"background-color:lightgrey;\">Y Type/Type</span> to `Scalar of Wall Shear Stress[i]`. The output of these settings is visualized in Fig. 4 as follow:\n",
    "\n",
    "<img src=\"./Images/shear_Re100.png\" width=\"700\" align=\"middle\">\n",
    "</br>\n",
    "Fig. 4 -  The streamwise velocity gradient ($\\frac{dU}{dy}$) along the bottom wall of the channel for the flow in a channel with backward facing step with Reynolds of 100.\n",
    "\n",
    "Fig. 4 shows that the streamwise shear stress ($\\tau_{xy}$) right after the step has negative value, since the flow has changes it's directionality close to the wall boundary. This negative value increases to the middle of the recirculation zone, where can be thought as the heart of the recirculation region. Then the  streamwise velocity gradient value start to decrease back to zero. Once the flow becomes fully uniform within the channel cross section and flow re-attaches to bottom of the channel the streamwise velocity gradient value becomes positive and start increasing with positive value. For a fully developed flow, moving toward toward the outlet of the domain, the value of  streamwise shear stress ($\\tau_{xy}$) becomes constant as visualized in Fig. 4. This graph confirms that the flow reattaches to the channels wall, sign of the shear stress changes, at about $x=0.064~[m]$ from the inlet of the channel. This data can be obtained by simply hovering the mouse pointer on top of the cross signs on the plot and read corresponding coordinates to them. To calculate the length of the separation region, as measured and reported on figure 14 on page 490 in the work of [Armaly et. al.](http://journals.cambridge.org/action/displayAbstract?fromPage=online&aid=380534&fileId=S0022112083002839), the initial $0.05~[m]$ length of the channel should be subtracted from this value, which corresponds to a separation length of about $0.015 [m]$. Table 1 shows the evaluated separation length and it's comparison with the corresponding normalized separation length value with the initial height of the backward facing step ($s=0.0049 [m]$):\n",
    "\n",
    "| Reynolds #     |$x_L~[m]$ Numerical|$x_3~[m]$ Numerical|$x_3/s$ Numerical  | $x_3/s$ Experiment|Relative Error [%]|\n",
    "| :-------------:|:---------------:  |:---------------:  |:--------------:   | :----------------:|:----------------:|\n",
    "| 100            | 0.064             |0.014              | 2.857             | 3.027             |5.61              |\n",
    "Table 1. Comparison between the experimentally measured and numerically predicted normalize separation region length for flow over a backward step with Re=100.\n",
    "\n",
    "As shown in the Table 1, the CFD simulation can evaluate the experimentally measured recirculation length with about $5\\%$ level of accuracy. This is a good validation point for the developed CFD simulations. At this point user can be confident in the validity of the developed CFD mesh and simulation and use it for simulation of other case studies. Using this validate developed base simulation, the flow in a channel with a backward facing step with various Reynolds numbers (up to 800) was ran and the numerically evaluated separation length were compared against the corresponding experimentally measured separation length reported by [Armaly et. al.](http://journals.cambridge.org/action/displayAbstract?fromPage=online&aid=380534&fileId=S0022112083002839). Fig 5. visualizes these comparisons.\n",
    "\n",
    "<img src=\"./Images/x3_various_Re.png\" width=\"500\" align=\"middle\">\n",
    "</br>\n",
    "Fig. 5 Comparison between the experimentally measured and numerically predicted normalize separation region length for flow over a backward step with various Reynolds numbers.\n",
    "\n",
    "It is interesting to note that the agreement between numerical and experimental data is very good for flows with Reynolds number less than 400. However, after this Reynolds number the CFD simulation under estimates the length of the recirculation zone compared to the experiment. This deviation of numerical results from corresponding experimental results is similar to the reported trend by [Armaly et. al.](http://journals.cambridge.org/action/displayAbstract?fromPage=online&aid=380534&fileId=S0022112083002839). According to Armaly et. al.: \"[Using CFD simulations] converged and grid-independent solutions could be obtained that are in good agreement with experimental findings up to a Reynolds number Re~400. For Reynolds numbers in excess of this value the numerical results also show multiple regions of  separated (recirculating) flow at the wall  opposite to the two-dimensional step and on the channel side where the step is located. Unfortunately with the occurrence of more than one separated flow region, the flow in the experiments becomes three-dimensional in the region downstream of the step, and this prevents direct comparison between the experimental and theoretical results.\"\n",
    "\n",
    "At this stage one can conclude that this CFD numerical simulation is validated to study steady laminar flow over a backward facing step. Therefore, these simulations can be used for similar or more complex problems, such as unsteady flow over a backward facing step or three dimensional laminar steady or unsteady flow over backward facing step. This can be done via correct implementation in changing the corresponding solver, models and/or boundary conditions.\n",
    "\n",
    "> For more details on the physics, theory and equation derivation please see work of Armaly et. al. \"Experimental and theoretical investigation of backward-facing step flow\n",
    "\" [here](http://journals.cambridge.org/action/displayAbstract?fromPage=online&aid=380534&fileId=S0022112083002839)."
   ]
  },
  {
   "cell_type": "code",
   "execution_count": null,
   "metadata": {
    "collapsed": true
   },
   "outputs": [],
   "source": []
  }
 ],
 "metadata": {
  "kernelspec": {
   "display_name": "Python 3",
   "language": "python",
   "name": "python3"
  },
  "language_info": {
   "codemirror_mode": {
    "name": "ipython",
    "version": 3
   },
   "file_extension": ".py",
   "mimetype": "text/x-python",
   "name": "python",
   "nbconvert_exporter": "python",
   "pygments_lexer": "ipython3",
   "version": "3.5.1"
  }
 },
 "nbformat": 4,
 "nbformat_minor": 0
}
