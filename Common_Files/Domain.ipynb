{
 "cells": [
  {
   "cell_type": "markdown",
   "metadata": {},
   "source": [
    "# CFD Domain's Creation & Discretization\n",
    "\n",
    "**The next step for developing the CFD simulation for a case study, after the review of physics and theory behind the problem of interest, is to create the CFD/Computational domain. This CFD domain will first be created and then discretized into small finite elements (2D) or finite volumes (3D). The flow field's governing equations are then solved numerically inside these elements or volumes via an iterative process till a converged solution inside the CFD domain is obtained. This section explains the techniques and process of creation and discretization of the CFD domain for the problem of interest. It should be highlighted that this sections provides the most generic steps and techniques to create the CFD domain. Users can implement these steps/techniques in the mesher of their choice or download the pre-generated * .msh file from the \"Simulation_Src\" folder.**\n",
    "\n",
    "The CFD domain for the 2D laminar flow in a channel with a backward facing step consists two rectangles, a small and a large one, connected to each other forming a backward facing step as shown in Fig. 1.\n",
    "\n",
    "<img src=\"./Images/flow_sketch.png\" width=\"500\">\n",
    "</br>\n",
    "Fig. 1 - Sketch of the CFD domain, combination of two rectangles, and flow visualization within the channel with backward facing step.\n",
    "\n",
    "The dimensions for this CFD domain are chosen to match the dimensions of the test section of the experimental analysis performed by [Armaly et. al. work.](http://journals.cambridge.org/action/displayAbstract?fromPage=online&aid=380534&fileId=S0022112083002839). These dimensions are presented Table 1. Users should pay close attention to the preset length unit in their mesher software of choice since most of the mesher software are preset to [m] as the unit :\n",
    "\n",
    "|  Side        |   Length [mm] |\n",
    "|--------------|:-------------:|\n",
    "| $$ h $$      |      5.2      |\n",
    "| $$ S $$      |      4.9      |\n",
    "| $$ l_1 $$    |      50       |\n",
    "| $$ l_2 $$    |      100      |\n",
    "</br>\n",
    "Table. 1 - CFD domain dimensions in [mm] as visualized in Fig. 1.\n",
    "\n",
    "To create the geometry of the visualized CFD domain in Fig. 1, it is recommended to start with creating the corner points of the geometry. It should be noted that in addition to all of the corner points of the CFD domain (vertices 1 through 6), two extra helping points are also created (vertices 7 & 8) at this step. The reason for creating these two extra helping points is to create helping lines for controlling mesh resolution in regions of interest within the CFD domain in next steps. Details of this will be discussed shortly. It should be highlighted that the global origin is placed on top of the vertex 1 and the position of other vertices were defined relative to this origin.\n",
    "\n",
    "<img src=\"./Images/CFD_doamin_vertices.png\" width=\"800\">\n",
    "</br>\n",
    "Fig. 2 - The CFD domain corner points and two additional helping points.\n",
    "\n",
    "At the next step these points are connected together, two-by-two to their neighbor point, using horizontal and vertical lines. Then a unit surface is defined using all created lines to fully define the raw geometry of the CFD domain as visualized in Fig. 3.\n",
    "\n",
    "<img src=\"./Images/CFD_domain_raw_geometry.png\" width=\"800\">\n",
    "</br>\n",
    "Fig. 3 - Raw geometry of the CFD domain as a united surface.\n",
    "\n",
    "** Now the raw geometry should be discretized into finite elements/volumes (a.k.a meshing procedure). In simple words, meshing is the process of \"chopping\" the raw geometry of the CFD domain into smaller finite elements and/or volumes, wherein the flow field's governing equations will be solved numerically. High quality mesh elements, with reasonable aspect ratio, would lead to a smoother and more promising numerical solution. Therefore, it is important to increase the quality and level of controllability in the CFD domain at the first step by proper meshing and topology techniques.**\n",
    "\n",
    "As discussed earlier to increase the level of controllability on mesh resolution in regions with complex flow field physics (e.g. channel walls), two helping points and lines were created. In this specific problem the mesh resolution was controlled close to the bottom walls in the CFD domain (More helping points and lines could be created to increase the level of controllability of the mesh resolution). To highlight the methodological approach used for controlling mesh resolution, Fig. 4 visualizes mesh of vertical lines in the CFD domain. As shown in the zoom-in view, the concentration of mesh element is set to be higher close to the bottom walls of the channel by setting a first length (i.e. distance of the first mesh element from the wall) of 0.1 [mm] and using 100 mesh elements along each vertical line. High mesh resolution in close proximity to the bottom walls helps modeling the complex physics of the formed boundary layer in this region more accurately. The level of mesh resolution becomes significantly important as the Reynolds number and therefore regime of the flow changes from laminar (low Reynolds) to turbulent (high Reynolds). Using this meshing methodology, provides users the opportunity to alter the set first length (i.e. distance of the first mesh element from the wall) and number of mesh elements on these vertical lines and changing the mesh resolution within the CFD domain without implementation of any other changes. \n",
    "\n",
    "<img src=\"./Images/CFD_domain_vertical_edge_mesh_final.png\" width=\"800\">\n",
    "</br>\n",
    "Fig. 4 Mesh of vertical lines in the CFD domain. Consider the approach to control mesh resolution in zoom-in view. \n",
    "\n",
    "To complete the meshing process of the CFD domain the horizontal edges should also be meshed. The number of mesh elements along these edges are defined based on their corresponding lengths. Two mesh element is considered for every 1 [mm] of length along these horizontal edges. Similar to the mesh process of vertical lines a first length of 0.1 [mm] was defined on each horizontal line, from their end located at the position of backward facing step. This setting would concentrate more mesh elements right before and after the location of backward facing step, where physics of the flow becomes complicated due to the flow separation phenomena. Fig. 5 visualizes the addition of the horizontal line mesh to the domain and provides a zoom-in view of increased mesh resolution at the location of backward facing step in the CFD domain. \n",
    "\n",
    "<img src=\"./Images/CFD_domain_horizontal_edge_mesh_final.png\" width=\"800\">\n",
    "Fig. 5 - Mesh of horizontal line and controlling mesh element distribution along the horizontal lines close to the backward facing step location.\n",
    "\n",
    "At this stage all of the edges in the CFD domain are meshed and user can use the surface meshing algorithm of choice to mesh the entire domain as shown in Fig. 6. The zoom-in view in Fig. 6 reveals how the mesh resolution is increase in a controlled manner right after and before the backward facing step. One more time it should be highlighted that a user can use additional helping points and lines during the raw geometry creation step to increase the level of controllability of the mesh resolution at various regions of the CFD domain. However, in the current study this was not necessary since the regime for the flow of interest is laminar and it is two dimensional. \n",
    "\n",
    "<img src=\"./Images/CFD_domain_surface_mesh_final.png\" width=\"800\">\n",
    "Fig.3 - Surface mesh the CFD domain. Zoom-in view should the outcome of controlling mesh resolution approach.\n",
    "\n",
    "Once the mesh is generated it's quality should be examined. This can be done using the provided features and functions defined in the meshing software. In general these functions calculate the aspect ratio of each elements and report a statistical report on them. The goal is to keep the average aspect ratio close to 1 for a very high quality mesh. In this stage the CFD domain is completely meshed and is ready to be setup for a CFD simulation.\n",
    "\n"
   ]
  },
  {
   "cell_type": "code",
   "execution_count": null,
   "metadata": {
    "collapsed": true
   },
   "outputs": [],
   "source": []
  }
 ],
 "metadata": {
  "kernelspec": {
   "display_name": "Python 3",
   "language": "python",
   "name": "python3"
  },
  "language_info": {
   "codemirror_mode": {
    "name": "ipython",
    "version": 3
   },
   "file_extension": ".py",
   "mimetype": "text/x-python",
   "name": "python",
   "nbconvert_exporter": "python",
   "pygments_lexer": "ipython3",
   "version": "3.5.1"
  }
 },
 "nbformat": 4,
 "nbformat_minor": 0
}
